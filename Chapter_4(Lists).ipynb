{
  "nbformat": 4,
  "nbformat_minor": 0,
  "metadata": {
    "colab": {
      "name": "Chapter 4(Lists).ipynb",
      "provenance": [],
      "collapsed_sections": [],
      "authorship_tag": "ABX9TyPgwxiMmJHK1E8FidltAdG7",
      "include_colab_link": true
    },
    "kernelspec": {
      "name": "python3",
      "display_name": "Python 3"
    },
    "language_info": {
      "name": "python"
    }
  },
  "cells": [
    {
      "cell_type": "markdown",
      "metadata": {
        "id": "view-in-github",
        "colab_type": "text"
      },
      "source": [
        "<a href=\"https://colab.research.google.com/github/Samyakrastogi/Python/blob/main/Chapter_4(Lists).ipynb\" target=\"_parent\"><img src=\"https://colab.research.google.com/assets/colab-badge.svg\" alt=\"Open In Colab\"/></a>"
      ]
    },
    {
      "cell_type": "markdown",
      "metadata": {
        "id": "wdNDAY66FTQt"
      },
      "source": [
        "Q1)\n",
        "Ans."
      ]
    },
    {
      "cell_type": "code",
      "metadata": {
        "colab": {
          "base_uri": "https://localhost:8080/"
        },
        "id": "_0nrIfGDFJON",
        "outputId": "c0b9fb92-a69c-4ed4-997c-4e90049152c8"
      },
      "source": [
        "\n",
        "list1 = []\n",
        "for i in range (7):\n",
        "  a = input(\"Enter a fruit name: \")\n",
        "  list1.append(a)\n",
        "print(list1)\n"
      ],
      "execution_count": null,
      "outputs": [
        {
          "output_type": "stream",
          "name": "stdout",
          "text": [
            "Enter a fruit name: apple\n",
            "Enter a fruit name: banana\n",
            "Enter a fruit name: mango\n",
            "Enter a fruit name: guava\n",
            "Enter a fruit name: grapes\n",
            "Enter a fruit name: pear\n",
            "Enter a fruit name: peach\n",
            "['apple', 'banana', 'mango', 'guava', 'grapes', 'pear', 'peach']\n"
          ]
        }
      ]
    },
    {
      "cell_type": "markdown",
      "metadata": {
        "id": "AgCdwSO8JLqK"
      },
      "source": [
        "Q2)\n",
        "Ans"
      ]
    },
    {
      "cell_type": "code",
      "metadata": {
        "colab": {
          "base_uri": "https://localhost:8080/"
        },
        "id": "gX9Pik8aFxpy",
        "outputId": "0c62b53f-e8bd-41c4-c015-2bf0b3acc81e"
      },
      "source": [
        "list1 = []\n",
        "for i in range (6):\n",
        "  a = input(\"Enter marks : \")\n",
        "  list1.append(a)\n",
        "print(\"Unsorted list -->\",list1)\n",
        "list1.sort()\n",
        "print(\"Sorted List -->\",list1)"
      ],
      "execution_count": null,
      "outputs": [
        {
          "output_type": "stream",
          "name": "stdout",
          "text": [
            "Enter marks : 23\n",
            "Enter marks : 56\n",
            "Enter marks : 89\n",
            "Enter marks : 48\n",
            "Enter marks : 10\n",
            "Enter marks : 97\n",
            "Unsorted list --> ['23', '56', '89', '48', '10', '97']\n",
            "Sorted List --> ['10', '23', '48', '56', '89', '97']\n"
          ]
        }
      ]
    },
    {
      "cell_type": "markdown",
      "metadata": {
        "id": "UtZnlFchJQfR"
      },
      "source": [
        "Q3)\n",
        "Ans."
      ]
    },
    {
      "cell_type": "code",
      "metadata": {
        "colab": {
          "base_uri": "https://localhost:8080/",
          "height": 231
        },
        "id": "SQYP_3C-IwcY",
        "outputId": "5c4c79db-cae2-4e38-c325-ba2daf6ff853"
      },
      "source": [
        "tp = (10,20,30,40)\n",
        "print(tp[1])\n",
        "tp[2] = 90\n",
        "print(tp)\n"
      ],
      "execution_count": null,
      "outputs": [
        {
          "output_type": "stream",
          "name": "stdout",
          "text": [
            "20\n"
          ]
        },
        {
          "output_type": "error",
          "ename": "TypeError",
          "evalue": "ignored",
          "traceback": [
            "\u001b[0;31m---------------------------------------------------------------------------\u001b[0m",
            "\u001b[0;31mTypeError\u001b[0m                                 Traceback (most recent call last)",
            "\u001b[0;32m<ipython-input-12-7d23f2e53998>\u001b[0m in \u001b[0;36m<module>\u001b[0;34m()\u001b[0m\n\u001b[1;32m      1\u001b[0m \u001b[0mtp\u001b[0m \u001b[0;34m=\u001b[0m \u001b[0;34m(\u001b[0m\u001b[0;36m10\u001b[0m\u001b[0;34m,\u001b[0m\u001b[0;36m20\u001b[0m\u001b[0;34m,\u001b[0m\u001b[0;36m30\u001b[0m\u001b[0;34m,\u001b[0m\u001b[0;36m40\u001b[0m\u001b[0;34m)\u001b[0m\u001b[0;34m\u001b[0m\u001b[0;34m\u001b[0m\u001b[0m\n\u001b[1;32m      2\u001b[0m \u001b[0mprint\u001b[0m\u001b[0;34m(\u001b[0m\u001b[0mtp\u001b[0m\u001b[0;34m[\u001b[0m\u001b[0;36m1\u001b[0m\u001b[0;34m]\u001b[0m\u001b[0;34m)\u001b[0m\u001b[0;34m\u001b[0m\u001b[0;34m\u001b[0m\u001b[0m\n\u001b[0;32m----> 3\u001b[0;31m \u001b[0mtp\u001b[0m\u001b[0;34m[\u001b[0m\u001b[0;36m2\u001b[0m\u001b[0;34m]\u001b[0m \u001b[0;34m=\u001b[0m \u001b[0;36m90\u001b[0m\u001b[0;34m\u001b[0m\u001b[0;34m\u001b[0m\u001b[0m\n\u001b[0m\u001b[1;32m      4\u001b[0m \u001b[0mprint\u001b[0m\u001b[0;34m(\u001b[0m\u001b[0mtp\u001b[0m\u001b[0;34m)\u001b[0m\u001b[0;34m\u001b[0m\u001b[0;34m\u001b[0m\u001b[0m\n",
            "\u001b[0;31mTypeError\u001b[0m: 'tuple' object does not support item assignment"
          ]
        }
      ]
    },
    {
      "cell_type": "code",
      "metadata": {
        "colab": {
          "base_uri": "https://localhost:8080/"
        },
        "id": "GgmSEQ2FI1xk",
        "outputId": "0797b3f9-0e09-45d1-888f-32739a485b19"
      },
      "source": [
        "l1 = int(input(\"Enter number 1 :\"))\n",
        "l2 = int(input(\"Enter number 2 :\"))\n",
        "l3 = int(input(\"Enter number 3 :\"))\n",
        "l4 = int(input(\"Enter number 4 :\"))\n",
        "list1 = [l1,l2,l3,l4]\n",
        "print(list1)\n",
        "print(l1 + l2 + l3 +l4)\n",
        "print(sum(list1))\n",
        " \n"
      ],
      "execution_count": null,
      "outputs": [
        {
          "output_type": "stream",
          "name": "stdout",
          "text": [
            "Enter number 1 :10\n",
            "Enter number 2 :20\n",
            "Enter number 3 :30\n",
            "Enter number 4 :40\n",
            "[10, 20, 30, 40]\n",
            "100\n",
            "100\n"
          ]
        }
      ]
    },
    {
      "cell_type": "code",
      "metadata": {
        "colab": {
          "base_uri": "https://localhost:8080/"
        },
        "id": "E1kjRTggKSjR",
        "outputId": "4a33a07f-b8b4-4f82-fd8c-68f6bebe072d"
      },
      "source": [
        "a = (7, 0, 8, 9, 0, 8)\n",
        "x = a.count(0)\n",
        "print(x)"
      ],
      "execution_count": null,
      "outputs": [
        {
          "output_type": "stream",
          "name": "stdout",
          "text": [
            "2\n"
          ]
        }
      ]
    },
    {
      "cell_type": "code",
      "metadata": {
        "id": "QaCvkWvBNNaP"
      },
      "source": [
        ""
      ],
      "execution_count": null,
      "outputs": []
    }
  ]
}